{
 "cells": [
  {
   "cell_type": "markdown",
   "metadata": {},
   "source": [
    "# Support Code"
   ]
  },
  {
   "cell_type": "code",
   "execution_count": 1,
   "metadata": {},
   "outputs": [],
   "source": [
    "# You are expected to use this support code if you are writing code in Python.\n",
    "# You may want to write:\n",
    "# from ct_support_code import *\n",
    "# at the top of your answers\n",
    "\n",
    "# You will need numpy and scipy:\n",
    "import numpy as np\n",
    "from scipy.optimize import minimize\n",
    "\n",
    "def params_unwrap(param_vec, shapes, sizes):\n",
    "    \"\"\"Helper routine for minimize_list\"\"\"\n",
    "    args = []\n",
    "    pos = 0\n",
    "    for i in range(len(shapes)):\n",
    "        sz = sizes[i]\n",
    "        args.append(param_vec[pos:pos+sz].reshape(shapes[i]))\n",
    "        pos += sz\n",
    "    return args\n",
    "\n",
    "def params_wrap(param_list):\n",
    "    \"\"\"Helper routine for minimize_list\"\"\"\n",
    "    param_list = [np.array(x) for x in param_list]\n",
    "    shapes = [x.shape for x in param_list]\n",
    "    sizes = [x.size for x in param_list]\n",
    "    param_vec = np.zeros(sum(sizes))\n",
    "    pos = 0\n",
    "    for param in param_list:\n",
    "        sz = param.size\n",
    "        param_vec[pos:pos+sz] = param.ravel()\n",
    "        pos += sz\n",
    "    unwrap = lambda pvec: params_unwrap(pvec, shapes, sizes)\n",
    "    return param_vec, unwrap\n",
    "\n",
    "def minimize_list(cost, init_list, args):\n",
    "    \"\"\"Optimize a list of arrays (wrapper of scipy.optimize.minimize)\n",
    "\n",
    "    The input function \"cost\" should take a list of parameters,\n",
    "    followed by any extra arguments:\n",
    "        cost(init_list, *args)\n",
    "    should return the cost of the initial condition, and a list in the same\n",
    "    format as init_list giving gradients of the cost wrt the parameters.\n",
    "\n",
    "    The options to the optimizer have been hard-coded. You may wish\n",
    "    to change disp to True to get more diagnostics. You may want to\n",
    "    decrease maxiter while debugging. Although please report all results\n",
    "    in Q2-5 using maxiter=500.\n",
    "\n",
    "    The Matlab code comes with a different optimizer, so won't give the same\n",
    "    results.\n",
    "    \"\"\"\n",
    "    opt = {'maxiter': 500, 'disp': False}\n",
    "    init, unwrap = params_wrap(init_list)\n",
    "    def wrap_cost(vec, *args):\n",
    "        E, params_bar = cost(unwrap(vec), *args)\n",
    "        vec_bar, _ = params_wrap(params_bar)\n",
    "        return E, vec_bar\n",
    "    res = minimize(wrap_cost, init, args, 'L-BFGS-B', jac=True, options=opt)\n",
    "    return unwrap(res.x)\n",
    "\n",
    "\n",
    "def linreg_cost(params, X, yy, alpha):\n",
    "    \"\"\"Regularized least squares cost function and gradients\n",
    "\n",
    "    Can be optimized with minimize_list -- see fit_linreg_gradopt for a\n",
    "    demonstration.\n",
    "\n",
    "    Inputs:\n",
    "    params: tuple (ww, bb): weights ww (D,), bias bb scalar\n",
    "         X: N,D design matrix of input features\n",
    "        yy: N,  real-valued targets\n",
    "     alpha: regularization constant\n",
    "\n",
    "    Outputs: (E, [ww_bar, bb_bar]), cost and gradients\n",
    "    \"\"\"\n",
    "    # Unpack parameters from list\n",
    "    ww, bb = params\n",
    "\n",
    "    # forward computation of error\n",
    "    ff = np.dot(X, ww) + bb\n",
    "    res = ff - yy\n",
    "    E = np.dot(res, res) + alpha*np.dot(ww, ww)\n",
    "\n",
    "    # reverse computation of gradients\n",
    "    ff_bar = 2*res\n",
    "    bb_bar = np.sum(ff_bar)\n",
    "    ww_bar = np.dot(X.T, ff_bar) + 2*alpha*ww\n",
    "\n",
    "    return E, [ww_bar, bb_bar]\n",
    "\n",
    "def fit_linreg_gradopt(X, yy, alpha):\n",
    "    \"\"\"\n",
    "    fit a regularized linear regression model with gradient opt\n",
    "\n",
    "         ww, bb = fit_linreg_gradopt(X, yy, alpha)\n",
    "\n",
    "     Find weights and bias by using a gradient-based optimizer\n",
    "     (minimize_list) to improve the regularized least squares cost:\n",
    "\n",
    "       np.sum(((np.dot(X,ww) + bb) - yy)**2) + alpha*np.dot(ww,ww)\n",
    "\n",
    "     Inputs:\n",
    "             X N,D design matrix of input features\n",
    "            yy N,  real-valued targets\n",
    "         alpha     scalar regularization constant\n",
    "\n",
    "     Outputs:\n",
    "            ww D,  fitted weights\n",
    "            bb     scalar fitted bias\n",
    "    \"\"\"\n",
    "    D = X.shape[1]\n",
    "    args = (X, yy, alpha)\n",
    "    init = (np.zeros(D), np.array(0))\n",
    "    ww, bb = minimize_list(linreg_cost, init, args)\n",
    "    return ww, bb\n",
    "\n",
    "\n",
    "def pca_zm_proj(X, K=None):\n",
    "    \"\"\"return PCA projection matrix for zero mean data\n",
    "\n",
    "    Inputs:\n",
    "        X N,D design matrix of input features -- must be zero mean\n",
    "        K     how many columns to return in projection matrix\n",
    "\n",
    "    Outputs:\n",
    "        V D,K matrix to apply to X or other matrices shifted in same way.\n",
    "    \"\"\"\n",
    "    if np.max(np.abs(np.mean(X,0))) > 1e-9:\n",
    "        raise ValueError('Data is not zero mean.')\n",
    "    if K is None:\n",
    "        K = X.shape[1]\n",
    "    E, V = np.linalg.eig(np.dot(X.T, X))\n",
    "    idx = np.argsort(E)[::-1]\n",
    "    V = V[:, idx[:K]] # D,K\n",
    "    return V\n",
    "\n",
    "\n",
    "def logreg_cost(params, X, yy, alpha):\n",
    "    \"\"\"Regularized logistic regression cost function and gradients\n",
    "\n",
    "    Can be optimized with minimize_list -- see fit_linreg_gradopt for a\n",
    "    demonstration of fitting a similar function.\n",
    "\n",
    "    Inputs:\n",
    "    params: tuple (ww, bb): weights ww (D,), bias bb scalar\n",
    "         X: N,D design matrix of input features\n",
    "        yy: N,  real-valued targets\n",
    "     alpha: regularization constant\n",
    "\n",
    "    Outputs: (E, [ww_bar, bb_bar]), cost and gradients\n",
    "    \"\"\"\n",
    "    # Unpack parameters from list\n",
    "    ww, bb = params\n",
    "\n",
    "    # Force targets to be +/- 1\n",
    "    yy = 2*(yy==1) - 1\n",
    "\n",
    "    # forward computation of error\n",
    "    aa = yy*(np.dot(X, ww) + bb)\n",
    "    sigma = 1/(1 + np.exp(-aa))\n",
    "    E = -np.sum(np.log(sigma)) + alpha*np.dot(ww, ww)\n",
    "\n",
    "    # reverse computation of gradients\n",
    "    aa_bar = sigma - 1\n",
    "    bb_bar = np.dot(aa_bar, yy)\n",
    "    ww_bar = np.dot(X.T, yy*aa_bar) + 2*alpha*ww\n",
    "\n",
    "    return E, (ww_bar, bb_bar)\n",
    "\n",
    "\n",
    "def nn_cost(params, X, yy=None, alpha=None):\n",
    "    \"\"\"NN_COST simple neural network cost function and gradients, or predictions\n",
    "\n",
    "           E, params_bar = nn_cost([ww, bb, V, bk], X, yy, alpha)\n",
    "                    pred = nn_cost([ww, bb, V, bk], X)\n",
    "\n",
    "     Cost function E can be minimized with minimize_list\n",
    "\n",
    "     Inputs:\n",
    "             params (ww, bb, V, bk), where:\n",
    "                    --------------------------------\n",
    "                        ww K,  hidden-output weights\n",
    "                        bb     scalar output bias\n",
    "                         V K,D hidden-input weights\n",
    "                        bk K,  hidden biases\n",
    "                    --------------------------------\n",
    "                  X N,D input design matrix\n",
    "                 yy N,  regression targets\n",
    "              alpha     scalar regularization for weights\n",
    "\n",
    "     Outputs:\n",
    "                     E  sum of squares error\n",
    "            params_bar  gradients wrt params, same format as params\n",
    "     OR\n",
    "               pred N,  predictions if only params and X are given as inputs\n",
    "    \"\"\"\n",
    "    # Unpack parameters from list\n",
    "    ww, bb, V, bk = params\n",
    "\n",
    "    # Forwards computation of cost\n",
    "    A = np.dot(X, V.T) + bk[None,:] # N,K\n",
    "    P = 1 / (1 + np.exp(-A)) # N,K\n",
    "    F = np.dot(P, ww) + bb # N,\n",
    "    if yy is None:\n",
    "        # user wants prediction rather than training signal:\n",
    "        return F\n",
    "    res = F - yy # N,\n",
    "    E = np.dot(res, res) + alpha*(np.sum(V*V) + np.dot(ww,ww)) # 1x1\n",
    "\n",
    "    # Reverse computation of gradients\n",
    "    F_bar = 2*res # N,\n",
    "    ww_bar = np.dot(P.T, F_bar) + 2*alpha*ww # K,\n",
    "    bb_bar = np.sum(F_bar) # scalar\n",
    "    P_bar = np.dot(F_bar[:,None], ww[None,:]) # N,\n",
    "    A_bar = P_bar * P * (1 - P) # N,\n",
    "    V_bar = np.dot(A_bar.T, X) + 2*alpha*V # K,\n",
    "    bk_bar = np.sum(A_bar, 0)\n",
    "\n",
    "    return E, (ww_bar, bb_bar, V_bar, bk_bar)"
   ]
  },
  {
   "cell_type": "markdown",
   "metadata": {},
   "source": [
    "# Load Data"
   ]
  },
  {
   "cell_type": "code",
   "execution_count": 2,
   "metadata": {},
   "outputs": [],
   "source": [
    "%matplotlib inline\n",
    "import numpy as np\n",
    "import scipy.io\n",
    "import matplotlib.pyplot as plt\n",
    "\n",
    "mat_contents = scipy.io.loadmat(\"ct_data.mat\", squeeze_me=True)\n",
    "X_train = mat_contents['X_train']\n",
    "X_val = mat_contents['X_val']\n",
    "X_test = mat_contents['X_test']\n",
    "y_train = mat_contents['y_train']\n",
    "y_val = mat_contents['y_val']\n",
    "y_test = mat_contents['y_test']"
   ]
  },
  {
   "cell_type": "markdown",
   "metadata": {},
   "source": [
    "# Q1a"
   ]
  },
  {
   "cell_type": "code",
   "execution_count": 3,
   "metadata": {},
   "outputs": [
    {
     "name": "stdout",
     "output_type": "stream",
     "text": [
      "y_val   mean = -0.216009, std = 0.981421, stderr = 0.012903\n",
      "y_train mean = -0.000000, std = 0.999988, stderr = 0.004953\n"
     ]
    }
   ],
   "source": [
    "assert np.isclose(y_train.mean(),0)\n",
    "assert not np.isclose(y_val.mean(),0)\n",
    "y_val_stderr = y_val.std()/((y_val.shape[0])**0.5)\n",
    "y_train_stderr = y_train.std()/((y_train.shape[0])**0.5)\n",
    "print(\"y_val   mean = %f, std = %f, stderr = %f\" % (y_val.mean(),   y_val.std(),   y_val_stderr))\n",
    "print(\"y_train mean = %f, std = %f, stderr = %f\" % (y_train.mean(), y_train.std(), y_train_stderr))"
   ]
  },
  {
   "cell_type": "markdown",
   "metadata": {},
   "source": [
    "The mean of y_train is zero within numberical rounding errors. The mean of y_val is not zero. \n",
    "The mean of y_val is approximately $-2.16\\times10^{-1}$. Its standard error is $1.29\\times10^{-2}$.\n",
    "For comparison, the mean of y_train is close $0$. Its standard error is $4.95\\times10^{-3}$.\n",
    "\n",
    "This is a misuse of stardard error of the mean (SEM) caused by confusion between SEM and standard deviation of the obervations. Standard deivation of observations, as a descriptive statistics, describes the property of observed data. As the sample size grows, standard deviation of sampled observations is approximate to the standard deviation of population. Standard deviation over y_train is approximately equal to standard deiation over y_val.\n",
    "\n",
    "SEM is estimated by standard deviation of the sampling distribution. SEM measures the dispersion of sample means around population mean. SEM only measures the dispersion for a particular sample size. As sample size increases, SEM tends to zero. SEM of y_train is smaller than SEM of y_val because y_train has more samples than y_val. Therefore, SEM should not be used to estimate the average locations in future data. "
   ]
  },
  {
   "cell_type": "markdown",
   "metadata": {},
   "source": [
    "# Q1b"
   ]
  },
  {
   "cell_type": "code",
   "execution_count": 4,
   "metadata": {
    "scrolled": true
   },
   "outputs": [
    {
     "name": "stdout",
     "output_type": "stream",
     "text": [
      "constant features' indices are (array([ 59,  69, 179, 189, 351]),)\n"
     ]
    }
   ],
   "source": [
    "# remove constant features\n",
    "temp = np.all(X_train==X_train[0,:], axis = 0)\n",
    "constant_feature_indices = np.where(temp==True)\n",
    "print(\"constant features' indices are\", constant_feature_indices)\n",
    "X_train = np.delete(X_train, constant_feature_indices, axis=1)\n",
    "X_val = np.delete(X_val, constant_feature_indices, axis=1)\n",
    "X_test = np.delete(X_test, constant_feature_indices, axis=1)"
   ]
  },
  {
   "cell_type": "code",
   "execution_count": 5,
   "metadata": {},
   "outputs": [],
   "source": [
    "def remove_duplicates(dataset):\n",
    "    arr = np.empty(dataset.shape[1], dtype=bool)\n",
    "    for idx1 in range(dataset.shape[1]):\n",
    "        for idx2 in range(idx1+1,dataset.shape[1]):\n",
    "            arr[idx2] = np.all(dataset[:,idx1]==dataset[:,idx2])\n",
    "            arr[idx1] = np.all(dataset[:,idx1]==dataset[:,idx2])\n",
    "    return arr"
   ]
  },
  {
   "cell_type": "code",
   "execution_count": 6,
   "metadata": {},
   "outputs": [
    {
     "name": "stdout",
     "output_type": "stream",
     "text": [
      "duplicate features' indices are [[ 76  77 185 195 283 354]]\n"
     ]
    }
   ],
   "source": [
    "# remove duplicate features\n",
    "col_num = X_train.shape[1]\n",
    "_,idx = np.unique(X_train,axis=1, return_index=True)\n",
    "X_train = X_train[:,np.sort(idx)]\n",
    "X_val = X_val[:,np.sort(idx)]\n",
    "X_test = X_test[:,np.sort(idx)]\n",
    "\n",
    "counter = 0\n",
    "duplicate_feature_indices = np.zeros((1,col_num-X_train.shape[1]),dtype=int)\n",
    "for value in range(col_num):\n",
    "    if value not in np.sort(idx):\n",
    "        duplicate_feature_indices[0,counter]=value\n",
    "        counter+=1\n",
    "print(\"duplicate features' indices are\", duplicate_feature_indices)"
   ]
  },
  {
   "cell_type": "markdown",
   "metadata": {},
   "source": [
    "In the first stage, five contant features are removed. Their indices are 59, 69, 179, 189, 351.\n",
    "In the second stage, six duplicate features are removed. Their indices are 76, 77, 185, 195, 283, 354."
   ]
  },
  {
   "cell_type": "markdown",
   "metadata": {},
   "source": [
    "# Q2"
   ]
  },
  {
   "cell_type": "code",
   "execution_count": 7,
   "metadata": {},
   "outputs": [],
   "source": [
    "def fit_linreg(X, yy, alpha):\n",
    "    Phi = np.concatenate([np.ones((X.shape[0],1)), X], axis=1)\n",
    "    Phi = np.concatenate([Phi, (alpha**0.5)*np.identity(Phi.shape[1])], axis=0)\n",
    "    yy = np.concatenate([yy, np.zeros(Phi.shape[1]).T], axis=0)\n",
    "    bb = np.linalg.lstsq(Phi, yy, rcond=-1)[0][0]\n",
    "    ww = np.linalg.lstsq(Phi, yy, rcond=-1)[0][1:]\n",
    "    return ww, bb\n",
    "    \n",
    "ww_lstsq, bb_lstsq = fit_linreg(X_train, y_train, 10)"
   ]
  },
  {
   "cell_type": "code",
   "execution_count": 8,
   "metadata": {},
   "outputs": [],
   "source": [
    "ww_grad, bb_grad = fit_linreg_gradopt(X_train, y_train, 10)"
   ]
  },
  {
   "cell_type": "code",
   "execution_count": 9,
   "metadata": {},
   "outputs": [
    {
     "name": "stdout",
     "output_type": "stream",
     "text": [
      "lstsq train: rmse = 0.355762, val rmse = 0.420505, test rmse = 0.443915\n",
      "grad-based : rmse = 0.355756, val rmse = 0.420588, test rmse = 0.443993\n"
     ]
    }
   ],
   "source": [
    "def rmse(X,yy,ww,bb):\n",
    "    ff = np.dot(X, ww) + bb\n",
    "    rr = yy - ff\n",
    "    return (np.dot(rr.T, rr)/rr.shape[0])**0.5\n",
    "\n",
    "print(\"lstsq train: rmse = %f, val rmse = %f, test rmse = %f\" % (rmse(X_train,y_train,ww_lstsq,bb_lstsq), \n",
    "                                                                 rmse(X_val,y_val,ww_lstsq,bb_lstsq), \n",
    "                                                                 rmse(X_test,y_test,ww_lstsq,bb_lstsq)))\n",
    "print(\"grad-based : rmse = %f, val rmse = %f, test rmse = %f\" % (rmse(X_train,y_train,ww_grad,bb_grad), \n",
    "                                                                 rmse(X_val,y_val,ww_grad,bb_grad), \n",
    "                                                                 rmse(X_test,y_test,ww_grad,bb_grad)))"
   ]
  },
  {
   "cell_type": "markdown",
   "metadata": {},
   "source": [
    "| &nbsp;                              | Train               | Val                 | Test                |\n",
    "|-------------------------------------|---------------------|---------------------|---------------------|\n",
    "| Linear regression (least squares)   | $3.56\\times10^{-1}$ | $4.21\\times10^{-1}$ | $4.44\\times10^{-1}$ |\n",
    "| Linear regression (gradient method) | $3.56\\times10^{-1}$ | $4.21\\times10^{-1}$ | $4.44\\times10^{-1}$ |\n",
    "\n",
    "Least squares and gradient-based method gave me roughly the same results but not exactly the same. The possible reason can be the step size of gradient method. "
   ]
  },
  {
   "cell_type": "markdown",
   "metadata": {},
   "source": [
    "# Q3a"
   ]
  },
  {
   "cell_type": "code",
   "execution_count": 10,
   "metadata": {},
   "outputs": [],
   "source": [
    "# calculate projection matrix\n",
    "X_mu = np.mean(X_train, 0)\n",
    "centred_X_train = X_train - X_mu\n",
    "V_10 = pca_zm_proj(centred_X_train, 10)\n",
    "V_100 = pca_zm_proj(centred_X_train, 100)"
   ]
  },
  {
   "cell_type": "code",
   "execution_count": 11,
   "metadata": {},
   "outputs": [],
   "source": [
    "# linear regression by least squares\n",
    "X_train_10 = np.dot(X_train, V_10)\n",
    "X_train_100 = np.dot(X_train, V_100)\n",
    "ww_10,bb_10 = fit_linreg(X_train_10,y_train,10)\n",
    "ww_100,bb_100 = fit_linreg(X_train_100,y_train,10)"
   ]
  },
  {
   "cell_type": "code",
   "execution_count": 12,
   "metadata": {},
   "outputs": [
    {
     "name": "stdout",
     "output_type": "stream",
     "text": [
      "K=10, train rmse = 0.572918, val rmse = 0.571741, test rmse = 0.553765\n",
      "K=100,train rmse = 0.410637, val rmse = 0.432863, test rmse = 0.428621\n"
     ]
    }
   ],
   "source": [
    "train_rmse_10 = rmse(X_train_10,y_train,ww_10,bb_10)\n",
    "train_rmse_100 = rmse(X_train_100,y_train,ww_100,bb_100)\n",
    "X_val_10 = np.dot(X_val,V_10)\n",
    "X_val_100 = np.dot(X_val,V_100)\n",
    "X_test_10 = np.dot(X_test,V_10)\n",
    "X_test_100 = np.dot(X_test,V_100)\n",
    "val_rmse_10 = rmse(X_val_10,y_val,ww_10,bb_10)\n",
    "val_rmse_100 = rmse(X_val_100,y_val,ww_100,bb_100)\n",
    "test_rmse_10 = rmse(X_test_10,y_test,ww_10,bb_10)\n",
    "test_rmse_100 = rmse(X_test_100,y_test,ww_100,bb_100)\n",
    "print(\"K=10, train rmse = %f, val rmse = %f, test rmse = %f\" % (train_rmse_10, val_rmse_10,  test_rmse_10))\n",
    "print(\"K=100,train rmse = %f, val rmse = %f, test rmse = %f\" % (train_rmse_100,val_rmse_100, test_rmse_100))"
   ]
  },
  {
   "cell_type": "markdown",
   "metadata": {},
   "source": [
    "| &nbsp;                                      | Train               | Val                 | Test                |\n",
    "|---------------------------------------------|---------------------|---------------------|---------------------|\n",
    "| Linear regression (least squares) PCA K=10  | $5.73\\times10^{-1}$ | $5.72\\times10^{-1}$ | $5.54\\times10^{-1}$ |\n",
    "| Linear regression (least squares) PCA K=100 | $4.11\\times10^{-1}$ | $4.33\\times10^{-1}$ | $4.29\\times10^{-1}$ |\n",
    "| Linear regression (least squares)           | $3.56\\times10^{-1}$ | $4.21\\times10^{-1}$ | $4.44\\times10^{-1}$ |\n",
    "\n",
    "Fitting a model to high dimensional data possibly leads to overfitting. According to the table above, fitting linear regression models to high-dimensional data gives smaller training error. This is possibly a sign of overfitting. \n",
    "\n",
    "1) Too many features increases model complexity. In this questoin, we projected D-dimensional data to K-dimension. We then fit a linear regression model to this K-dimensional version data. This linear model has K weights and 1 bias. Fitting to K-dimensional data creates a model with (K+1) parameters. If K is large, we are fitting a complex model. \n",
    "\n",
    "2) When we fit a model to too many features, the ratio of features to data (K/N) gets too high. The model can identify a single datapoint by a single feature. Such model cannot well represent the underlying population. If we want to fit to more features, more training data is required. Alternatively, we reduce original dataset to low-dimension. "
   ]
  },
  {
   "cell_type": "markdown",
   "metadata": {},
   "source": [
    "# Q3b"
   ]
  },
  {
   "cell_type": "code",
   "execution_count": 13,
   "metadata": {},
   "outputs": [
    {
     "data": {
      "image/png": "[encoded data removed]",
      "text/plain": [
       "<Figure size 864x720 with 4 Axes>"
      ]
     },
     "metadata": {
      "needs_background": "light"
     },
     "output_type": "display_data"
    }
   ],
   "source": [
    "fig, axs = plt.subplots(2, 2, figsize=(12, 10))\n",
    "axs[0,0].hist(X_train[:,45],bins=50)\n",
    "axs[0,1].hist(X_train[:,100],bins=50)\n",
    "axs[1,0].hist(X_train[:,200],bins=50)\n",
    "axs[1,1].hist(X_train[:,300],bins=50)\n",
    "for ax2 in axs:\n",
    "    for ax in ax2:\n",
    "        ax.set_xlabel('x')\n",
    "        ax.set_ylabel('Number of x')\n",
    "axs[0,0].set_title('Histogram of 45th feature')\n",
    "axs[0,1].set_title('Histogram of 100th feature')\n",
    "axs[1,0].set_title('Histogram of 200th feature')\n",
    "axs[1,1].set_title('Histogram of 300th feature')\n",
    "plt.show()"
   ]
  },
  {
   "cell_type": "code",
   "execution_count": 14,
   "metadata": {},
   "outputs": [
    {
     "name": "stdout",
     "output_type": "stream",
     "text": [
      "Fraction of values equal -0.25 and 0 is 0.803624.\n"
     ]
    }
   ],
   "source": [
    "bool_X_train = (X_train==-0.25) | (X_train==0)\n",
    "fraction = X_train[bool_X_train].shape[0] / (X_train.shape[0]*X_train.shape[1])\n",
    "print(\"Fraction of values equal -0.25 and 0 is %f.\" % fraction)"
   ]
  },
  {
   "cell_type": "code",
   "execution_count": 15,
   "metadata": {},
   "outputs": [
    {
     "name": "stdout",
     "output_type": "stream",
     "text": [
      "train rmse = 0.317842, val rmse = 0.376945, test rmse = 0.430460\n"
     ]
    }
   ],
   "source": [
    "aug_fn = lambda X: np.concatenate([X, X==0, X<0], axis=1)\n",
    "aug_X_train = aug_fn(X_train)\n",
    "aug_X_val = aug_fn(X_val)\n",
    "aug_X_test = aug_fn(X_test)\n",
    "ww_aug,bb_aug = fit_linreg(aug_X_train,y_train,10)\n",
    "\n",
    "train_rmse_aug = rmse(aug_X_train,y_train,ww_aug,bb_aug)\n",
    "val_rmse_aug = rmse(aug_X_val,y_val,ww_aug,bb_aug)\n",
    "test_rmse_aug = rmse(aug_X_test,y_test,ww_aug,bb_aug)\n",
    "print(\"train rmse = %f, val rmse = %f, test rmse = %f\" % (train_rmse_aug,val_rmse_aug,test_rmse_aug))"
   ]
  },
  {
   "cell_type": "markdown",
   "metadata": {},
   "source": [
    "Most values hold value of zero. About 80.36% of features hold value of -0.25 or 0. \n",
    "\n",
    "| &nbsp;                                         | Train               | Val                 | Test                |\n",
    "|------------------------------------------------|---------------------|---------------------|---------------------|\n",
    "| Linear regression (least squares) augment data | $3.18\\times10^{-1}$ | $3.77\\times10^{-1}$ | $4.30\\times10^{-1}$ |\n",
    "\n",
    "Intuitively, when fitting to more input features, we fits a large model with more parameters to high-dimensional data. A large model has more freedom and can fit closely to data. \n",
    "\n",
    "From the histograms and the fact that most features are -0.25 or 0, it is reasonable to treat features as categorical features. We can categorize features by value into 3 categories (i.e. zeros, positves and negatives). aug_fn concatenates original $N\\times D$ input matrix with two binary matrix and returns an $N\\times3D$ augmented dataset.\n",
    "\n",
    "Suppose we categorize features into zeros and non-zeros. In a feature vector, zeros are labelled as 1, non-zeros are labelled as 1. A feature vector is then one-hot encoded as a binary feature vector with multiple labels. This gives us a binary input matrix. Similarly, we can categorize features into negatives and non-negatives. \n",
    "\n",
    "Consider $N\\times D$ X_train is a numerical representation of categorical features, we want to encode a numerical feature vector into a categorial feature vector. We encode a D-dimensional numerical vector to a 2D-dimensional binary vector."
   ]
  },
  {
   "cell_type": "markdown",
   "metadata": {},
   "source": [
    "# Q4"
   ]
  },
  {
   "cell_type": "code",
   "execution_count": 16,
   "metadata": {},
   "outputs": [],
   "source": [
    "def fit_logreg_gradopt(X, yy, alpha):\n",
    "    D = X.shape[1]\n",
    "    args = (X, yy, alpha)\n",
    "    init = (np.zeros(D), np.array(0))\n",
    "    ww, bb = minimize_list(logreg_cost, init, args)\n",
    "    return ww, bb\n",
    "\n",
    "\n",
    "K = 10\n",
    "wws = np.empty((X_train.shape[1],K)) # weights of 10 classification tasks\n",
    "bbs = np.empty(K) # biases of 10 classification tasks\n",
    "mx = np.max(y_train)\n",
    "mn = np.min(y_train)\n",
    "hh = (mx-mn)/(K+1)\n",
    "thresholds = np.linspace(mn+hh, mx-hh, num=K, endpoint=True)\n",
    "for kk in range(K):\n",
    "    labels = y_train > thresholds[kk]\n",
    "    wws[:,kk], bbs[kk] = fit_logreg_gradopt(X_train, labels, 10)"
   ]
  },
  {
   "cell_type": "code",
   "execution_count": 17,
   "metadata": {},
   "outputs": [],
   "source": [
    "def sigmoid(x):\n",
    "    return 1 / (1 + np.exp(-x))\n",
    "\n",
    "prob_X_train = np.dot(X_train,wws)+bbs\n",
    "prob_X_val = np.dot(X_val,wws)+bbs\n",
    "prob_X_test = np.dot(X_test,wws)+bbs\n",
    "\n",
    "sigmoid_vec = np.vectorize(sigmoid)\n",
    "prob_X_train = sigmoid_vec(prob_X_train)\n",
    "prob_X_val = sigmoid_vec(prob_X_val)\n",
    "prob_X_test = sigmoid_vec(prob_X_test)"
   ]
  },
  {
   "cell_type": "code",
   "execution_count": 18,
   "metadata": {},
   "outputs": [
    {
     "name": "stdout",
     "output_type": "stream",
     "text": [
      "train rmse = 0.138275, val rmse = 0.252189, test rmse = 0.289803\n"
     ]
    }
   ],
   "source": [
    "ww_prob,bb_prob = fit_linreg(prob_X_train, y_train, 10)\n",
    "train_rmse_prob = rmse(prob_X_train, y_train, ww_prob, bb_prob)\n",
    "val_rmse_prob = rmse(prob_X_val, y_val, ww_prob, bb_prob)\n",
    "test_rmse_prob = rmse(prob_X_test, y_test, ww_prob, bb_prob)\n",
    "print(\"train rmse = %f, val rmse = %f, test rmse = %f\" % (train_rmse_prob,val_rmse_prob,test_rmse_prob))"
   ]
  },
  {
   "cell_type": "markdown",
   "metadata": {},
   "source": [
    "| &nbsp;                       | Train               | Val                 | Test                |\n",
    "|------------------------------|---------------------|---------------------|---------------------|\n",
    "| Logistic & linear regression | $1.38\\times10^{-1}$ | $2.52\\times10^{-1}$ | $2.90\\times10^{-1}$ |\n",
    "\n",
    "PCA projects high-dimensional dataset to low-dimension. PCA changes the diemtnsion to 10 principal components with most variation but drop other components that contributes the least to variation in dataset. principal components with most variation can strongly differ relative locations of CT slices. In other words, these 10 principal components can best reconstruct the original dataset. \n",
    "\n",
    "In this question, we reduced D-dimension to 10-dimension by fitting a logistic regression model. Then, we use the ouputs from logistic regression model as inputs to fit a linear regressoin model. Suppose we use gradient optimization fit both linear and logistic models, it is not exactly fitting a neural network because errors of the second linear model does not back propagate throught the first logistic model. Precisely speaking, we fit two regression models, but we kind of reduce dimensionality by a hidden layer of 10 units. \n",
    "\n",
    "PCA is faster because PCA gives 10 linear combinations of features that matter the most. Gradient optimization is much slower. However, information that can distinguish results might be stored in low variance components. Therefore, neural networks are likely to have less training errors. "
   ]
  },
  {
   "cell_type": "markdown",
   "metadata": {},
   "source": [
    "# Q5"
   ]
  },
  {
   "cell_type": "code",
   "execution_count": 19,
   "metadata": {},
   "outputs": [],
   "source": [
    "# glorot uniform init\n",
    "def glorot_uniform_init(shape):\n",
    "    gain = 1\n",
    "    std = gain * (2./sum(shape))**0.5\n",
    "    half_width = 3.**0.5 * std\n",
    "    return np.random.uniform(low=-half_width, high=half_width, size=shape)\n",
    "\n",
    "def fit_nn_gradopt(X, yy, alpha):\n",
    "    \"\"\"\n",
    "    ww K,  hidden-output weights\n",
    "    bb     scalar output bias\n",
    "    V  K,D hidden-input weights\n",
    "    bk K,  hidden biases\n",
    "    \"\"\"\n",
    "    K = 10\n",
    "    D = X.shape[1]\n",
    "    args = (X, yy, alpha)\n",
    "    ww = glorot_uniform_init((K,))\n",
    "    bb = np.array(0)\n",
    "    V  = glorot_uniform_init((K,D))\n",
    "    bk = np.zeros(K)\n",
    "    init = (ww,bb,V,bk)\n",
    "    ww, bb, V, bk = minimize_list(nn_cost, init, args)\n",
    "    return ww, bb, V, bk"
   ]
  },
  {
   "cell_type": "code",
   "execution_count": 20,
   "metadata": {},
   "outputs": [
    {
     "name": "stdout",
     "output_type": "stream",
     "text": [
      "glorot uniform init train rmse = 0.162739, val rmse = 0.422775, test rmse = 0.419927\n"
     ]
    }
   ],
   "source": [
    "ww, bb, V, bk = fit_nn_gradopt(X_train, y_train, 10)\n",
    "params = [ww,bb,V,bk]\n",
    "train_se_glorot,_ = nn_cost(params, X_train, y_train, 10)\n",
    "train_rmse_glorot = (train_se_glorot/X_train.shape[0])**0.5\n",
    "val_se_glorot,_ = nn_cost(params, X_val, y_val, 10)\n",
    "val_rmse_glorot = (val_se_glorot/X_val.shape[0])**0.5\n",
    "test_se_glorot,_ = nn_cost(params, X_test, y_test, 10)\n",
    "test_rmse_glorot = (test_se_glorot/X_test.shape[0])**0.5\n",
    "print(\"glorot uniform init train rmse = %f, val rmse = %f, test rmse = %f\" % \n",
    "      (train_rmse_glorot,val_rmse_glorot,test_rmse_glorot))"
   ]
  },
  {
   "cell_type": "code",
   "execution_count": 21,
   "metadata": {},
   "outputs": [],
   "source": [
    "# q4 init\n",
    "def fit_nn_gradopt_q4(X, yy, alpha):\n",
    "    \"\"\"\n",
    "    ww K,  hidden-output weights\n",
    "    bb     scalar output bias\n",
    "    V  K,D hidden-input weights\n",
    "    bk K,  hidden biases\n",
    "    \"\"\"\n",
    "    args = (X, yy, alpha)\n",
    "    init = (ww_prob,bb_prob,wws,bbs)\n",
    "    ww, bb, V, bk = minimize_list(nn_cost, init, args)\n",
    "    return ww, bb, V, bk"
   ]
  },
  {
   "cell_type": "code",
   "execution_count": 22,
   "metadata": {},
   "outputs": [
    {
     "name": "stdout",
     "output_type": "stream",
     "text": [
      "q4 init train rmse = 0.162871, val rmse = 0.417746, test rmse = 0.420747\n"
     ]
    }
   ],
   "source": [
    "ww, bb, V, bk = fit_nn_gradopt(X_train, y_train, 10)\n",
    "params = [ww,bb,V,bk]\n",
    "train_se_q4,_ = nn_cost(params, X_train, y_train, 10)\n",
    "train_rmse_q4 = (train_se_q4/X_train.shape[0])**0.5\n",
    "val_se_q4,_ = nn_cost(params, X_val, y_val, 10)\n",
    "val_rmse_q4 = (val_se_q4/X_val.shape[0])**0.5\n",
    "test_se_q4,_ = nn_cost(params, X_test, y_test, 10)\n",
    "test_rmse_q4 = (test_se_q4/X_test.shape[0])**0.5\n",
    "print(\"q4 init train rmse = %f, val rmse = %f, test rmse = %f\" % \n",
    "      (train_rmse_q4,val_rmse_q4,test_rmse_q4))"
   ]
  },
  {
   "cell_type": "markdown",
   "metadata": {},
   "source": [
    "| &nbsp;                          | Train               | Val                 | Test                |\n",
    "|---------------------------------|---------------------|---------------------|---------------------|\n",
    "| Glorot init NN                  | $1.60\\times10^{-1}$ | $4.23\\times10^{-1}$ | $4.23\\times10^{-1}$ |\n",
    "| Q4 init NN                      | $1.61\\times10^{-1}$ | $4.24\\times10^{-1}$ | $4.17\\times10^{-1}$ |\n",
    "| Q4 logistic & linear regression | $1.38\\times10^{-1}$ | $2.52\\times10^{-1}$ | $2.90\\times10^{-1}$ |\n",
    "\n",
    "Glorot initialization and initialization with parameters in Q4 gave roughly the same errors. Glorot initialization worked slightly better. \n",
    "\n",
    "Sigmoid function saturates at tail of 0 and 1. Gradents as tails are colse to zero. During backpropagration, gradient of sigmoid is multiplied to the gradient of cost function with respect to the output of sigmoid function. This leads to hardly any update to parameters, and the learning becomes extremely slow. In order to effectively training the neural network, we need to initialize weights within a range such that derivatives are larger. \n",
    "\n",
    "No. Fitting the neural networks does not work better than the procedure in Q4. Though this neural network has the same number of parameters as Q4 model, a neural network is a more powerful model than a combination of two regressoin models. A powerful model is likely to overfit. "
   ]
  },
  {
   "cell_type": "markdown",
   "metadata": {},
   "source": [
    "# Q6"
   ]
  },
  {
   "cell_type": "markdown",
   "metadata": {},
   "source": [
    "| &nbsp;                                         | Train               | Val                 | Test                |\n",
    "|------------------------------------------------|---------------------|---------------------|---------------------|\n",
    "| Linear regression (gradient method)            | $3.56\\times10^{-1}$ | $4.21\\times10^{-1}$ | $4.44\\times10^{-1}$ |\n",
    "| Linear regression (least squares)              | $3.56\\times10^{-1}$ | $4.21\\times10^{-1}$ | $4.44\\times10^{-1}$ |\n",
    "| Linear regression (least squares) PCA K=10     | $5.73\\times10^{-1}$ | $5.72\\times10^{-1}$ | $5.54\\times10^{-1}$ |\n",
    "| Linear regression (least squares) PCA K=100    | $4.11\\times10^{-1}$ | $4.33\\times10^{-1}$ | $4.29\\times10^{-1}$ |\n",
    "| Linear regression (least squares) augment data | $3.18\\times10^{-1}$ | $3.77\\times10^{-1}$ | $4.30\\times10^{-1}$ |\n",
    "| Q4 logistic & linear regression                | $1.38\\times10^{-1}$ | $2.52\\times10^{-1}$ | $2.90\\times10^{-1}$ |\n",
    "| Glorot init NN                                 | $1.64\\times10^{-1}$ | $4.22\\times10^{-1}$ | $4.28\\times10^{-1}$ |\n",
    "| Q4 init NN                                     | $1.65\\times10^{-1}$ | $4.39\\times10^{-1}$ | $4.28\\times10^{-1}$ |\n"
   ]
  },
  {
   "cell_type": "markdown",
   "metadata": {},
   "source": [
    "It appears that complex models tend to overfit the data. I tried adjusting the regularization coefficient by grid search alpha between 0 and 2800. It shows that alpha between 500 and 1000 gives smaller test error. I then fine search between 500 and 1000. With alpha set to approximately 800, linear regression by least squares gives the smallest test error $4.28\\times 10^{-1}$."
   ]
  },
  {
   "cell_type": "code",
   "execution_count": 23,
   "metadata": {},
   "outputs": [
    {
     "data": {
      "image/png": "[encoded data removed]",
      "text/plain": [
       "<Figure size 432x288 with 1 Axes>"
      ]
     },
     "metadata": {
      "needs_background": "light"
     },
     "output_type": "display_data"
    }
   ],
   "source": [
    "rmse_dict = {\n",
    "    \"train\": [],\n",
    "    \"val\": [],\n",
    "    \"test\": []\n",
    "}\n",
    "\n",
    "for alpha in range(0,3000,200):\n",
    "    ww_lstsq, bb_lstsq = fit_linreg(X_train, y_train, alpha)\n",
    "    rmse_dict['train'] += [rmse(X_train,y_train,ww_lstsq,bb_lstsq)]\n",
    "    rmse_dict['val'] += [rmse(X_val,y_val,ww_lstsq,bb_lstsq)]\n",
    "    rmse_dict['test'] += [rmse(X_test,y_test,ww_lstsq,bb_lstsq)]\n",
    "\n",
    "for key,value in rmse_dict.items():\n",
    "    plt.plot(range(0,3000,200),value,label=key)\n",
    "plt.legend()\n",
    "plt.show()"
   ]
  },
  {
   "cell_type": "code",
   "execution_count": 24,
   "metadata": {},
   "outputs": [
    {
     "name": "stdout",
     "output_type": "stream",
     "text": [
      "lstsq train with alpha = 500: rmse = 0.371153, val rmse = 0.429326, test rmse = 0.428825\n",
      "lstsq train with alpha = 550: rmse = 0.372324, val rmse = 0.429525, test rmse = 0.428540\n",
      "lstsq train with alpha = 600: rmse = 0.373462, val rmse = 0.429736, test rmse = 0.428330\n",
      "lstsq train with alpha = 650: rmse = 0.374569, val rmse = 0.429959, test rmse = 0.428183\n",
      "lstsq train with alpha = 700: rmse = 0.375647, val rmse = 0.430195, test rmse = 0.428092\n",
      "lstsq train with alpha = 750: rmse = 0.376698, val rmse = 0.430443, test rmse = 0.428049\n",
      "lstsq train with alpha = 800: rmse = 0.377725, val rmse = 0.430702, test rmse = 0.428048\n",
      "lstsq train with alpha = 850: rmse = 0.378728, val rmse = 0.430972, test rmse = 0.428083\n",
      "lstsq train with alpha = 900: rmse = 0.379710, val rmse = 0.431253, test rmse = 0.428151\n",
      "lstsq train with alpha = 950: rmse = 0.380671, val rmse = 0.431542, test rmse = 0.428248\n"
     ]
    }
   ],
   "source": [
    "for alpha in range(500,1000,50):\n",
    "    ww_lstsq, bb_lstsq = fit_linreg(X_train, y_train, alpha)\n",
    "    print(\"lstsq train with alpha = %d: rmse = %f, val rmse = %f, test rmse = %f\" \n",
    "          % (alpha, rmse(X_train,y_train,ww_lstsq,bb_lstsq), \n",
    "             rmse(X_val,y_val,ww_lstsq,bb_lstsq), \n",
    "             rmse(X_test,y_test,ww_lstsq,bb_lstsq)))"
   ]
  }
 ],
 "metadata": {
  "kernelspec": {
   "display_name": "Python 3",
   "language": "python",
   "name": "python3"
  },
  "language_info": {
   "codemirror_mode": {
    "name": "ipython",
    "version": 3
   },
   "file_extension": ".py",
   "mimetype": "text/x-python",
   "name": "python",
   "nbconvert_exporter": "python",
   "pygments_lexer": "ipython3",
   "version": "3.6.6"
  }
 },
 "nbformat": 4,
 "nbformat_minor": 2
}
